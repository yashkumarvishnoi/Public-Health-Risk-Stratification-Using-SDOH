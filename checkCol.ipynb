{
 "cells": [
  {
   "cell_type": "code",
   "execution_count": 2,
   "id": "1aa54a5c",
   "metadata": {},
   "outputs": [
    {
     "name": "stdout",
     "output_type": "stream",
     "text": [
      "Columns in the GeoJSON file:\n",
      "Index(['dtname', 'stname', 'stcode11', 'dtcode11', 'year_stat', 'Shape_Length',\n",
      "       'Shape_Area', 'OBJECTID', 'test', 'Dist_LGD', 'State_LGD', 'geometry'],\n",
      "      dtype='object')\n",
      "\n",
      "Sample data from the GeoJSON file:\n",
      "               dtname       stname stcode11 dtcode11 year_stat   Shape_Length  \\\n",
      "0          Uttarkashi  UTTARAKHAND       05      056    2011_c  817689.377654   \n",
      "1             Chamoli  UTTARAKHAND       05      057    2011_c  619157.753185   \n",
      "2            Dehradun  UTTARAKHAND       05      060    2011_c  592796.082407   \n",
      "3       Tehri Garhwal  UTTARAKHAND       05      059    2011_c  643117.093311   \n",
      "4         Rudraprayag  UTTARAKHAND       05      058    2011_c  294312.114599   \n",
      "5         Pithoragarh  UTTARAKHAND       05      062    2011_c  714343.360473   \n",
      "6           Bageshwar  UTTARAKHAND       05      063    2011_c  370198.488382   \n",
      "7             Hardwar  UTTARAKHAND       05      068    2011_c  336783.853095   \n",
      "8             Garhwal  UTTARAKHAND       05      061    2011_c  485903.009011   \n",
      "9            Almora\\n  UTTARAKHAND       05      064    2011_c  462107.686702   \n",
      "10           Nainital  UTTARAKHAND       05      066    2011_c  507186.735838   \n",
      "11          Champawat  UTTARAKHAND       05      065    2011_c  319071.114558   \n",
      "12  Udham Singh Nagar  UTTARAKHAND       05      067    2011_c  662543.226145   \n",
      "\n",
      "      Shape_Area  OBJECTID  test  Dist_LGD  State_LGD  \\\n",
      "0   1.093028e+10       633     0        57          5   \n",
      "1   1.054910e+10       639     0        47          5   \n",
      "2   4.186573e+09       640     0        49          5   \n",
      "3   5.276176e+09       645     0        55          5   \n",
      "4   2.686932e+09       648     0        54          5   \n",
      "5   9.679194e+09       649     0        53          5   \n",
      "6   2.990240e+09       659     0        46          5   \n",
      "7   3.056682e+09       660     1        50          5   \n",
      "8   7.047635e+09       661     0        52          5   \n",
      "9   4.182304e+09       666     0        45          5   \n",
      "10  5.266858e+09       673     0        51          5   \n",
      "11  2.334290e+09       675     0        48          5   \n",
      "12  3.507424e+09       677     1        56          5   \n",
      "\n",
      "                                             geometry  \n",
      "0   POLYGON ((79.07185 31.4561, 79.07162 31.45613,...  \n",
      "1   POLYGON ((79.4126 31.07575, 79.41213 31.07629,...  \n",
      "2   POLYGON ((77.81745 31.03311, 77.81669 31.03316...  \n",
      "3   POLYGON ((78.9221 30.87855, 78.92052 30.87871,...  \n",
      "4   POLYGON ((79.03934 30.80752, 79.03879 30.80753...  \n",
      "5   POLYGON ((80.17286 30.80852, 80.17223 30.80864...  \n",
      "6   POLYGON ((79.99782 30.31679, 79.99601 30.31679...  \n",
      "7   POLYGON ((77.96124 30.24242, 77.9606 30.24241,...  \n",
      "8   POLYGON ((78.88039 30.26032, 78.87822 30.26032...  \n",
      "9   POLYGON ((79.23043 29.97916, 79.22957 29.97923...  \n",
      "10  POLYGON ((79.33595 29.6118, 79.33446 29.61206,...  \n",
      "11  POLYGON ((80.10446 29.52349, 80.10433 29.52363...  \n",
      "12  POLYGON ((78.82997 29.36834, 78.82949 29.36842...  \n"
     ]
    }
   ],
   "source": [
    "import geopandas as gpd\n",
    "\n",
    "# Load the new, clean GeoJSON file for Uttarakhand\n",
    "uttarakhand_map = gpd.read_file('UTTARAKHAND_DISTRICTS.geojson')\n",
    "\n",
    "# Inspect the columns to find the district name column\n",
    "print(\"Columns in the GeoJSON file:\")\n",
    "print(uttarakhand_map.columns)\n",
    "\n",
    "# Print the first few rows to see the district names\n",
    "print(\"\\nSample data from the GeoJSON file:\")\n",
    "print(uttarakhand_map.head(15))"
   ]
  },
  {
   "cell_type": "code",
   "execution_count": null,
   "id": "5ca4ca2f",
   "metadata": {},
   "outputs": [],
   "source": []
  }
 ],
 "metadata": {
  "kernelspec": {
   "display_name": "Python 3",
   "language": "python",
   "name": "python3"
  },
  "language_info": {
   "codemirror_mode": {
    "name": "ipython",
    "version": 3
   },
   "file_extension": ".py",
   "mimetype": "text/x-python",
   "name": "python",
   "nbconvert_exporter": "python",
   "pygments_lexer": "ipython3",
   "version": "3.11.6"
  }
 },
 "nbformat": 4,
 "nbformat_minor": 5
}
